{
 "cells": [
  {
   "cell_type": "markdown",
   "metadata": {
    "editable": false
   },
   "source": [
    "# Final Exam Part 3 of 4\n",
    "\n",
    "- You must include all of your work (all of your computations) in the notebooks.\n",
    "- Once you have completed your exam you must download each part and upload to turnitin.\n",
    "- You are responsable for checking thet you have answered all of the questions and uploaded the files in the correct area.\n",
    "\n",
    "\n",
    "## This is an exam, you must do this on your own.  \n",
    "\n",
    "# Here are the rules you agreed to on moodle.\n",
    "\n",
    "\n",
    "- I may use any of the resource posted on moodle, including\n",
    " -  Power Point Slides\n",
    " - Lecture Videos\n",
    " - Notebooks from Class\n",
    " - PDF notes from class\n",
    "\n",
    "- I may look up material in my textbook.\n",
    "- I may reference my notes.\n",
    "\n",
    "- I may NOT work with another student to complete the exam.\n",
    "- I may NOT ask another student in the class how to answer any question.\n",
    "- I may NOT ask someone outside of the course to help me answer any question.\n",
    "- I may NOT search the internet for help\n"
   ]
  },
  {
   "cell_type": "markdown",
   "metadata": {
    "editable": false
   },
   "source": [
    "## Question 6   \n",
    "\n",
    "Sex (female or male) and handedness (right or left handed) are recorded for a randomly selected sample of adults.\n",
    "\n",
    "I wish to investigte if there is a relationship between sex and handedness.\n",
    "\n",
    "Of the 100 women in the study 92 were right handed.  Of the 80 men in the study 70 men were right handed.\n",
    "\n",
    "\n",
    "Expected Values :\n",
    "\n",
    "|   \t| Female  \t|   Male\t|   \t|   \t\n",
    "|---\t|---\t|---\t|---\t|\n",
    "| Righthanded  \t|  (a) \t| (b)  \t|   \t|   \t\n",
    "| Lefthanded  \t| (c)  \t|   (d)\t|   \t|   \t\n",
    "\n",
    "\n",
    "\n",
    "### Part a )\n",
    "\n",
    "Calculate the missing entries in the expected value table.  You may round to one point past the decimal, and must include all of your work in this worksheet."
   ]
  },
  {
   "cell_type": "code",
   "execution_count": null,
   "metadata": {},
   "outputs": [],
   "source": []
  },
  {
   "cell_type": "code",
   "execution_count": null,
   "metadata": {},
   "outputs": [],
   "source": []
  },
  {
   "cell_type": "code",
   "execution_count": null,
   "metadata": {},
   "outputs": [],
   "source": []
  },
  {
   "cell_type": "markdown",
   "metadata": {},
   "source": [
    "Answer Part a)"
   ]
  },
  {
   "cell_type": "markdown",
   "metadata": {
    "editable": false
   },
   "source": [
    "### Part b) \n",
    "\n",
    "Calculate $\\chi^2$ the value of the test statistic.  (You must do this calculation in the workbook)"
   ]
  },
  {
   "cell_type": "code",
   "execution_count": null,
   "metadata": {},
   "outputs": [],
   "source": []
  },
  {
   "cell_type": "markdown",
   "metadata": {},
   "source": [
    "Answer Part b"
   ]
  },
  {
   "cell_type": "markdown",
   "metadata": {
    "editable": false
   },
   "source": [
    "### Part c)\n",
    "\n",
    "Find the p-value."
   ]
  },
  {
   "cell_type": "code",
   "execution_count": null,
   "metadata": {},
   "outputs": [],
   "source": []
  },
  {
   "cell_type": "code",
   "execution_count": null,
   "metadata": {},
   "outputs": [],
   "source": []
  },
  {
   "cell_type": "markdown",
   "metadata": {},
   "source": [
    "Answer part c)"
   ]
  },
  {
   "cell_type": "markdown",
   "metadata": {
    "editable": false
   },
   "source": [
    "### Part d)\n",
    "\n",
    "What is the conclusion of the hypothesis test.  You must include the p-value, relate this both to the null hypothesis, and the specific situation in this question. You may need 2 or 3 sentences."
   ]
  },
  {
   "cell_type": "code",
   "execution_count": null,
   "metadata": {},
   "outputs": [],
   "source": []
  },
  {
   "cell_type": "code",
   "execution_count": null,
   "metadata": {},
   "outputs": [],
   "source": []
  },
  {
   "cell_type": "code",
   "execution_count": null,
   "metadata": {},
   "outputs": [],
   "source": []
  },
  {
   "cell_type": "markdown",
   "metadata": {},
   "source": [
    "Answer Part d)"
   ]
  },
  {
   "cell_type": "markdown",
   "metadata": {
    "editable": false
   },
   "source": [
    "## Question   7\n",
    "\n",
    "\n",
    "I want to determine if there is a difference in the mean weights from population A, B, C, D, E.\n",
    "I collected data from all 5 groups and included side by side boxplot below.\n",
    "\n",
    "![title](boxplotdiff.png)\n",
    " \n",
    " Based on this plot I plan to run a hypotheis test using $\\alpha=0.05$ comparing $\\mu_D$ to $\\mu_E$\n",
    "\n",
    "What am I doing wrong?  Why would this not produce a valid hypothesis test?\n"
   ]
  },
  {
   "cell_type": "markdown",
   "metadata": {},
   "source": [
    "Answer Question 7"
   ]
  }
 ],
 "metadata": {
  "kernelspec": {
   "display_name": "R",
   "language": "R",
   "name": "ir"
  },
  "language_info": {
   "codemirror_mode": "r",
   "file_extension": ".r",
   "mimetype": "text/x-r-source",
   "name": "R",
   "pygments_lexer": "r",
   "version": "3.6.1"
  }
 },
 "nbformat": 4,
 "nbformat_minor": 2
}
