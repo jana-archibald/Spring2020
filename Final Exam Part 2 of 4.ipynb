{
 "cells": [
  {
   "cell_type": "markdown",
   "metadata": {
    "editable": false
   },
   "source": [
    "# Final Exam Part 2 of 4\n",
    "\n",
    "- You must include all of your work (all of your computations) in the notebooks.\n",
    "- Once you have completed your exam you must download each part and upload to turnitin.\n",
    "- You are responsable for checking thet you have answered all of the questions and uploaded the files in the correct area.\n",
    "\n",
    "\n",
    "## This is an exam, you must do this on your own.  \n",
    "\n",
    "# Here are the rules you agreed to on moodle.\n",
    "\n",
    "\n",
    "- I may use any of the resource posted on moodle, including\n",
    " -  Power Point Slides\n",
    " - Lecture Videos\n",
    " - Notebooks from Class\n",
    " - PDF notes from class\n",
    "\n",
    "- I may look up material in my textbook.\n",
    "- I may reference my notes.\n",
    "\n",
    "- I may NOT work with another student to complete the exam.\n",
    "- I may NOT ask another student in the class how to answer any question.\n",
    "- I may NOT ask someone outside of the course to help me answer any question.\n",
    "- I may NOT search the internet for help\n"
   ]
  },
  {
   "cell_type": "markdown",
   "metadata": {
    "editable": false
   },
   "source": [
    "## Question 4\n",
    "\n",
    "Volunteers who had developed a cold within the previous 24 hours were randomized to take either zinc or placebo lozenge every 2 to 3 hour until their cold symptoms were gone.  24 participants took zinc lozenges, and 23 participants took placebo lozenge.  The mean overall duration of symptoms was found for each group.  We want test to see if the zinc  lozenges improved recovery times using $\\alpha=0.10$."
   ]
  },
  {
   "cell_type": "markdown",
   "metadata": {
    "editable": false
   },
   "source": [
    "### Part a) \n",
    "What is the parameter of interest? Write it in words and use the correct symbol."
   ]
  },
  {
   "cell_type": "markdown",
   "metadata": {},
   "source": [
    "Answer Part a)"
   ]
  },
  {
   "cell_type": "markdown",
   "metadata": {
    "editable": false
   },
   "source": [
    "### Part b) \n",
    "\n",
    "What are the null and alternate hypotheses?  Write them in symbols and in words."
   ]
  },
  {
   "cell_type": "markdown",
   "metadata": {},
   "source": [
    "Answer Part b) "
   ]
  },
  {
   "cell_type": "markdown",
   "metadata": {
    "editable": false
   },
   "source": [
    "### Part c)\n",
    "What conditions must be met for the sampling distribution for the sampling statistic be approximately normal.  List all of the conditions,  whether  or not  you know they have been met, and how you would check them."
   ]
  },
  {
   "cell_type": "code",
   "execution_count": null,
   "metadata": {},
   "outputs": [],
   "source": []
  },
  {
   "cell_type": "markdown",
   "metadata": {},
   "source": [
    "Answer Part c)"
   ]
  },
  {
   "cell_type": "markdown",
   "metadata": {
    "editable": false
   },
   "source": [
    "### Part (d)\n",
    "Is this an example of a paired t test or an independent t test?  (Explain)"
   ]
  },
  {
   "cell_type": "markdown",
   "metadata": {},
   "source": [
    "Answer Part d)"
   ]
  },
  {
   "cell_type": "markdown",
   "metadata": {
    "editable": false
   },
   "source": [
    "### Part e)\n",
    "\n",
    "The summary statistics from the sample are below.  \n",
    "\n",
    "`.          Min.    1st Qu.     Median    Mean    3rd Qu.       Max.      Std.Dev.`\n",
    "  \n",
    "`ZINC       8.972     13.587     16.270    15.501    17.953    19.639      3.011 `\n",
    "\n",
    "`PLACEBO    7.473     15.412     17.902    17.450    19.353    23.456      2.955`\n",
    "\n",
    "\n",
    "What is the value of the test statistic?"
   ]
  },
  {
   "cell_type": "code",
   "execution_count": null,
   "metadata": {},
   "outputs": [],
   "source": []
  },
  {
   "cell_type": "markdown",
   "metadata": {},
   "source": [
    "Answer e)"
   ]
  },
  {
   "cell_type": "markdown",
   "metadata": {
    "editable": false
   },
   "source": [
    "### Part f)\n",
    "What is the p-value?"
   ]
  },
  {
   "cell_type": "code",
   "execution_count": null,
   "metadata": {},
   "outputs": [],
   "source": []
  },
  {
   "cell_type": "markdown",
   "metadata": {},
   "source": [
    "Answer Part f)"
   ]
  },
  {
   "cell_type": "markdown",
   "metadata": {
    "editable": false
   },
   "source": [
    "### Part g)\n",
    "What is the conclusion of the hypothesis test.  You must include the p-value, relate this both to the null hypothesis, and the specific situation in this question. You may need 2 or 3 sentences."
   ]
  },
  {
   "cell_type": "markdown",
   "metadata": {},
   "source": [
    "Answer part g)"
   ]
  },
  {
   "cell_type": "markdown",
   "metadata": {
    "editable": false
   },
   "source": [
    "## Question 5  \n",
    "\n",
    "A randomly selected sample of 500 registered voters in Lethbridge are asked if they support the current government, 210 said yes.  \n",
    "\n",
    "### Part a)\n",
    "Do we meet the requirements to compute a valid confidence interval?  List all of the things you are checking, whether or not you know that we meet them."
   ]
  },
  {
   "cell_type": "markdown",
   "metadata": {},
   "source": [
    "Answer Part a)"
   ]
  },
  {
   "cell_type": "markdown",
   "metadata": {
    "editable": false
   },
   "source": [
    "### Part b) \n",
    "Regardless of your answer for part (a) compute a 95% confidence interval for the proportion of people in Lethbridge who support the current government."
   ]
  },
  {
   "cell_type": "code",
   "execution_count": null,
   "metadata": {},
   "outputs": [],
   "source": []
  },
  {
   "cell_type": "markdown",
   "metadata": {},
   "source": [
    "Answer Part b)  "
   ]
  },
  {
   "cell_type": "markdown",
   "metadata": {
    "editable": false
   },
   "source": [
    "### Part c) \n",
    "\n",
    "Write one or two sentences explaining this confidence interval to a friend who has never taken a statistics class."
   ]
  },
  {
   "cell_type": "markdown",
   "metadata": {},
   "source": [
    "Answer part c)"
   ]
  }
 ],
 "metadata": {
  "kernelspec": {
   "display_name": "R",
   "language": "R",
   "name": "ir"
  },
  "language_info": {
   "codemirror_mode": "r",
   "file_extension": ".r",
   "mimetype": "text/x-r-source",
   "name": "R",
   "pygments_lexer": "r",
   "version": "3.6.1"
  }
 },
 "nbformat": 4,
 "nbformat_minor": 2
}
