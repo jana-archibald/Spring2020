{
 "cells": [
  {
   "cell_type": "markdown",
   "metadata": {
    "editable": false
   },
   "source": [
    "# Final Exam Part 4 of 4\n",
    "\n",
    "- You must include all of your work (all of your computations) in the notebooks.\n",
    "- Once you have completed your exam you must download each part and upload to turnitin.\n",
    "- You are responsable for checking thet you have answered all of the questions and uploaded the files in the correct area.\n",
    "\n",
    "\n",
    "## This is an exam, you must do this on your own.  \n",
    "\n",
    "# Here are the rules you agreed to on moodle.\n",
    "\n",
    "\n",
    "- I may use any of the resource posted on moodle, including\n",
    " -  Power Point Slides\n",
    " - Lecture Videos\n",
    " - Notebooks from Class\n",
    " - PDF notes from class\n",
    "\n",
    "- I may look up material in my textbook.\n",
    "- I may reference my notes.\n",
    "\n",
    "- I may NOT work with another student to complete the exam.\n",
    "- I may NOT ask another student in the class how to answer any question.\n",
    "- I may NOT ask someone outside of the course to help me answer any question.\n",
    "- I may NOT search the internet for help\n"
   ]
  },
  {
   "cell_type": "markdown",
   "metadata": {
    "editable": false
   },
   "source": [
    "## Question  8 \n",
    "\n",
    "A computer company checks every computer it produces before shipping. Each computer undergoes a series of 100 tests. The number of tests it fails will be used to determine whether the computer is Good or Defective. If it fails more than a certain number, it will be classified as Defective and will not be shipped. From past history, the distribution of the number of tests failed is known for both Good and Defective computers. The probabilities associated with each outcome are listed in the table below:\n",
    "\n",
    "| Number of Tests Failed \t| 0  \t| 1  \t| 2  \t| 3 \t| 4 \t| 5 \t| More than5 \t|\n",
    "|:----------------------:\t|----\t|----\t|----\t|---\t|---\t|---\t|------------\t|\n",
    "|        Good (%)        \t| 80 \t| 12 \t| 2  \t| 3 \t| 2 \t| 1 \t| 0          \t|\n",
    "|      Defective(%)      \t| 0  \t| 10 \t| 70 \t| 5 \t| 4 \t| 1 \t| 10         \t|\n",
    "\n",
    "The table indicates, for example, that 80% of Good computers will have exactly 0 failures in 100 tests, while 70% of Defective computers have exactly 2 failures in 100 tests.\n",
    "\n",
    "This is a hypothesis-testing situation.\n",
    "\n",
    "Null hypothesis: computer is Good\n",
    "\n",
    "Alternative hypothesis: computer is Defective. \n",
    "\n",
    "The computer will be declared Defective (reject null hypothesis) if it fails at least 3 tests (3 or more).\n",
    "\n",
    "\n",
    "\n",
    "\n",
    "### Part a) \n",
    "Suppose we test a computer and it fails 2 tests. What is the associated p-value?"
   ]
  },
  {
   "cell_type": "markdown",
   "metadata": {},
   "source": [
    "Answer a)"
   ]
  },
  {
   "cell_type": "markdown",
   "metadata": {
    "editable": false
   },
   "source": [
    "### Part b)\t\n",
    "\t\n",
    "In this example, a Type I error is rejecting a Good computer. What is the probability of a Type I error?"
   ]
  },
  {
   "cell_type": "markdown",
   "metadata": {},
   "source": [
    "Answer b)"
   ]
  },
  {
   "cell_type": "markdown",
   "metadata": {
    "editable": false
   },
   "source": [
    "### Part c)\t\n",
    "\t\n",
    "In this example, a Type II error is failing to reject a Defective computer. What is the probability of a Type II error?"
   ]
  },
  {
   "cell_type": "markdown",
   "metadata": {},
   "source": [
    "Answer part c)"
   ]
  },
  {
   "cell_type": "markdown",
   "metadata": {
    "editable": false
   },
   "source": [
    "## Question 9\n",
    "\n",
    "The weight of candies produced in a factory follow a normal distribution with a mean of 41.2 g and a standard deviation of 3.2g.\n",
    "If I take a random sample of 16 candies what is the probability that their mean weights will be above 42.5 g?\n"
   ]
  },
  {
   "cell_type": "markdown",
   "metadata": {},
   "source": [
    "Answer Question 9"
   ]
  },
  {
   "cell_type": "markdown",
   "metadata": {
    "editable": false
   },
   "source": [
    "## Question 10\n",
    "\n",
    "In previous years the number of spider mites per field was found to have a mean of 300 and a standard deviation of 50.\n",
    "You need to compute a 95% confidence interval for this years mean number of spider mites per field.  How large of a sample do you need to take to ensure that your margin of error is less than 5?\n",
    "\n",
    "\n"
   ]
  },
  {
   "cell_type": "markdown",
   "metadata": {},
   "source": [
    "Answer Question 10"
   ]
  }
 ],
 "metadata": {
  "kernelspec": {
   "display_name": "R",
   "language": "R",
   "name": "ir"
  },
  "language_info": {
   "codemirror_mode": "r",
   "file_extension": ".r",
   "mimetype": "text/x-r-source",
   "name": "R",
   "pygments_lexer": "r",
   "version": "3.6.1"
  }
 },
 "nbformat": 4,
 "nbformat_minor": 2
}
