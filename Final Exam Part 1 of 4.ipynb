{
 "cells": [
  {
   "cell_type": "markdown",
   "metadata": {
    "editable": false
   },
   "source": [
    "# Final Exam Part 1 of 4\n",
    "\n",
    "- You must include all of your work (all of your computations) in the notebooks.\n",
    "- Once you have completed your exam you must download each part and upload to turnitin.\n",
    "- You are responsable for checking thet you have answered all of the questions and uploaded the files in the correct area.\n",
    "\n",
    "\n",
    "## This is an exam, you must do this on your own.  \n",
    "\n",
    "# Here are the rules you agreed to on moodle.\n",
    "\n",
    "\n",
    "- I may use any of the resource posted on moodle, including\n",
    " -  Power Point Slides\n",
    " - Lecture Videos\n",
    " - Notebooks from Class\n",
    " - PDF notes from class\n",
    "\n",
    "- I may look up material in my textbook.\n",
    "- I may reference my notes.\n",
    "\n",
    "- I may NOT work with another student to complete the exam.\n",
    "- I may NOT ask another student in the class how to answer any question.\n",
    "- I may NOT ask someone outside of the course to help me answer any question.\n",
    "- I may NOT search the internet for help\n"
   ]
  },
  {
   "cell_type": "markdown",
   "metadata": {
    "editable": false
   },
   "source": [
    "## Question 1  \n",
    "\n",
    "I have removed some of the entries from the print out of an ANOVA test.  \n",
    "\n",
    "### Part a) \n",
    "Please find the numbers to fill in the blanks labeled (A), (B), (C), (D).\n",
    "\n",
    "You should show your work by using the notebook to do all of your calculations.\n",
    "\n",
    "\n",
    "`.                Df    Sum Sq    Mean Sq     F value        Pr(>F)   ` \n",
    "\n",
    "`spray            4      3230      ( A )       ( C )          ( D ) `\n",
    "\n",
    "`Residuals        76     12500      ( B ) `\n"
   ]
  },
  {
   "cell_type": "code",
   "execution_count": null,
   "metadata": {},
   "outputs": [],
   "source": []
  },
  {
   "cell_type": "code",
   "execution_count": null,
   "metadata": {},
   "outputs": [],
   "source": []
  },
  {
   "cell_type": "markdown",
   "metadata": {},
   "source": [
    "Entry (A ) ="
   ]
  },
  {
   "cell_type": "code",
   "execution_count": null,
   "metadata": {},
   "outputs": [],
   "source": []
  },
  {
   "cell_type": "markdown",
   "metadata": {},
   "source": [
    "Entry (B) = "
   ]
  },
  {
   "cell_type": "code",
   "execution_count": null,
   "metadata": {},
   "outputs": [],
   "source": []
  },
  {
   "cell_type": "markdown",
   "metadata": {},
   "source": [
    "Entry (C) ="
   ]
  },
  {
   "cell_type": "code",
   "execution_count": null,
   "metadata": {},
   "outputs": [],
   "source": []
  },
  {
   "cell_type": "markdown",
   "metadata": {},
   "source": [
    "Entry (D) = "
   ]
  },
  {
   "cell_type": "markdown",
   "metadata": {
    "editable": false
   },
   "source": [
    "### Part b)\n",
    "\n",
    "What is the conclusion of this ANOVA hypothesis test? You can use $\\alpha=0.05$"
   ]
  },
  {
   "cell_type": "markdown",
   "metadata": {},
   "source": [
    "Answer b)\n"
   ]
  },
  {
   "cell_type": "markdown",
   "metadata": {
    "editable": false
   },
   "source": [
    "## Question  2\n",
    "\n",
    "Suppose you want to determine if average mercury levels in Albacore tuna are less than 400 parts per billion (ppb). In a random sample of  43 specimens of Albacore tuna, the average mercury level was found to be 378 ppb and the standard deviation of mercury level was found to be 172 ppb.  You then run an appropriate test of significance with null hypothesis that average mercury levels in Albacore tuna is equal to 400 ppb and alternative hypothesis that average mercury levels in Albacore tuna is less than 400 ppb.. \n",
    "\n",
    "\n",
    "Your test of significance produces a p-value of 0.20.  \n",
    "\n",
    "\n",
    "Which of the following statements best describes what that p-value means?\n",
    "\n",
    "\n",
    "(A) If average mercury levels in Albacore tuna is 400 ppb, the probability you would get an observed statistic of 378 ppb or less in a random sample of 43 specimens of Albacore tuna is 0.20.\n",
    "\n",
    "(B) The probability that average mercury levels in Albacore tuna is less than 400 ppb is 0.20.\n",
    "\n",
    "(C) Your observed statistic of 378 ppb is approximately 0.20 standard deviations above the mean of the null distribution. \n",
    "\n",
    "(D) If average mercury levels in Albacore tuna is less than 400 ppb, the probability you would get an observed statistic of 378 ppb or less in a random sample of 43 specimens of Albacore tuna is 0.20.\n"
   ]
  },
  {
   "cell_type": "markdown",
   "metadata": {},
   "source": [
    "Answer question   2 "
   ]
  },
  {
   "cell_type": "markdown",
   "metadata": {
    "editable": false
   },
   "source": [
    "## Question 3\n",
    "\n",
    "Most US adults have social ties with a large number of people, including friends, family, co-workers, and other acquaintances. It is nearly impossible for most people to reliably list all the people they know, but using a mathematical model, social analysts estimate that, on average, a US adult has social ties with 634 people. \n",
    "\n",
    "A survey of 16 randomly selected US adults who are cell phone users finds that the average number of social ties for the cell phone users in the sample was 664 with a standard deviation of 120. \n",
    "\n",
    "We wish to test to see if this provides evidence that the average number of social ties for a cell phone user is significantly different from 634, the hypothesized number for all US adults.\n",
    "\n",
    "### Part a) \n",
    "What is the parameter of interest? Write it in words and use the correct symbol."
   ]
  },
  {
   "cell_type": "code",
   "execution_count": null,
   "metadata": {},
   "outputs": [],
   "source": []
  },
  {
   "cell_type": "markdown",
   "metadata": {},
   "source": [
    "Answer a) "
   ]
  },
  {
   "cell_type": "markdown",
   "metadata": {
    "editable": false
   },
   "source": [
    "### Part b) \n",
    "What is the sample statistic?  Write it in words, use the correct symbol and give its value."
   ]
  },
  {
   "cell_type": "code",
   "execution_count": null,
   "metadata": {},
   "outputs": [],
   "source": []
  },
  {
   "cell_type": "markdown",
   "metadata": {},
   "source": [
    "Answer b) "
   ]
  },
  {
   "cell_type": "markdown",
   "metadata": {
    "editable": false
   },
   "source": [
    "### Part c) \n",
    "What conditions must be met for the sampling distribution for the sampling statistic be approximately normal.  List all of the conditions,  whether  or not  you know they have been met, and how you would check them."
   ]
  },
  {
   "cell_type": "code",
   "execution_count": null,
   "metadata": {},
   "outputs": [],
   "source": []
  },
  {
   "cell_type": "markdown",
   "metadata": {},
   "source": [
    "Answer c"
   ]
  },
  {
   "cell_type": "markdown",
   "metadata": {
    "editable": false
   },
   "source": [
    "### Part d) \n",
    "What is the value of the test statistic?"
   ]
  },
  {
   "cell_type": "code",
   "execution_count": null,
   "metadata": {},
   "outputs": [],
   "source": []
  },
  {
   "cell_type": "markdown",
   "metadata": {},
   "source": [
    "Answer d)"
   ]
  },
  {
   "cell_type": "markdown",
   "metadata": {
    "editable": false
   },
   "source": [
    "### Part e) \n",
    "What is the p-value?"
   ]
  },
  {
   "cell_type": "code",
   "execution_count": null,
   "metadata": {},
   "outputs": [],
   "source": []
  },
  {
   "cell_type": "markdown",
   "metadata": {},
   "source": [
    "Answer e) "
   ]
  },
  {
   "cell_type": "markdown",
   "metadata": {
    "editable": false
   },
   "source": [
    "### Part f) \n",
    "\n",
    "What is the conclusion of the hypothesis test.  You must include the p-value, relate this both to the null hypothesis, and the specific situation in this question. You may need 2 or 3 sentences."
   ]
  },
  {
   "cell_type": "markdown",
   "metadata": {},
   "source": [
    "Answer f)"
   ]
  }
 ],
 "metadata": {
  "kernelspec": {
   "display_name": "R",
   "language": "R",
   "name": "ir"
  },
  "language_info": {
   "codemirror_mode": "r",
   "file_extension": ".r",
   "mimetype": "text/x-r-source",
   "name": "R",
   "pygments_lexer": "r",
   "version": "3.6.1"
  }
 },
 "nbformat": 4,
 "nbformat_minor": 2
}
